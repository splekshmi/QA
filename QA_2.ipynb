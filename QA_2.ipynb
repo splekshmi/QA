{
 "cells": [
  {
   "cell_type": "markdown",
   "metadata": {},
   "source": [
    "## 1. Complete the following code to find the area of an equilateral triangle. Output should be as displayed"
   ]
  },
  {
   "cell_type": "code",
   "execution_count": 18,
   "metadata": {
    "scrolled": true
   },
   "outputs": [
    {
     "name": "stdout",
     "output_type": "stream",
     "text": [
      "Enter the side of the equilateral triangle 5\n",
      "\n",
      "Area =  10.825\n"
     ]
    }
   ],
   "source": [
    "# area of an equilateral triangle\n",
    "import math\n",
    "side = float(input(\"Enter the side of the equilateral triangle \"))\n",
    "area = ((math.sqrt(3))/4)*pow(side,2)\n",
    "print('\\nArea = ',round(area,3))\n"
   ]
  },
  {
   "cell_type": "markdown",
   "metadata": {},
   "source": [
    "## 2. Write a program to count the number of each characters in a string"
   ]
  },
  {
   "cell_type": "code",
   "execution_count": 31,
   "metadata": {},
   "outputs": [
    {
     "name": "stdout",
     "output_type": "stream",
     "text": [
      "Enter the string:assembly\n",
      "a -  1\n",
      "s -  2\n",
      "e -  1\n",
      "m -  1\n",
      "b -  1\n",
      "l -  1\n",
      "y -  1\n"
     ]
    }
   ],
   "source": [
    "# number of occurence of each character in a string\n",
    "string=input('Enter the string:')\n",
    "for i in range(len(string)):\n",
    "    if len(string) == 0:\n",
    "        break;\n",
    "    ch = string[0]\n",
    "    # not counting spaces\n",
    "    if ch == ' ' or ch == '\\t':\n",
    "        continue\n",
    "    count = 1\n",
    "    for j in range(1, len(string)):\n",
    "        if ch == string[j]:\n",
    "            count += 1\n",
    "    string = string.replace(ch, '').strip()\n",
    "    print(ch + \" - \", count)  \n"
   ]
  },
  {
   "cell_type": "markdown",
   "metadata": {},
   "source": [
    "## 3. Write a program to find the area and perimeter of a rectangle using functions"
   ]
  },
  {
   "cell_type": "code",
   "execution_count": 22,
   "metadata": {},
   "outputs": [
    {
     "name": "stdout",
     "output_type": "stream",
     "text": [
      "Enter the length of rectangle:5\n",
      "Enter the breadth of rectangle:4\n",
      "Area of the rectangle is : 20\n",
      "Perimeter of the rectangle is : 18\n"
     ]
    }
   ],
   "source": [
    "# program to find the area and perimeter of a rectangle using functions \n",
    "def rect_area(l,b):\n",
    "    area=l*b\n",
    "    return area\n",
    "def rect_perimeter(l,b):\n",
    "    perimeter=2*(l+b)\n",
    "    return perimeter\n",
    "length=int(input('Enter the length of rectangle:'))\n",
    "breadth=int(input('Enter the breadth of rectangle:'))\n",
    "print('Area of the rectangle is :',rect_area(length,breadth))\n",
    "print('Perimeter of the rectangle is :',rect_perimeter(length,breadth))\n",
    "\n",
    "    "
   ]
  },
  {
   "cell_type": "markdown",
   "metadata": {},
   "source": [
    "## 4. Write a program to print the fibonacci series till a specified number"
   ]
  },
  {
   "cell_type": "code",
   "execution_count": 20,
   "metadata": {},
   "outputs": [
    {
     "name": "stdout",
     "output_type": "stream",
     "text": [
      "Enter the number upto which fibonacci series to be generated:9\n",
      "Fibonacci series upto 9 : 0 1 1 2 3 5 8 "
     ]
    }
   ],
   "source": [
    "#program to print fibonacci series upto a specified number\n",
    "c=0\n",
    "a=0\n",
    "b=1\n",
    "n=int(input('Enter the number upto which fibonacci series to be generated:')) \n",
    "print('Fibonacci series upto',n,':',end=' ')\n",
    "while c<=n:\n",
    "   print(c,end=' ');\n",
    "   a=b;\n",
    "   b=c;\n",
    "   c=a+b;\n"
   ]
  },
  {
   "cell_type": "markdown",
   "metadata": {},
   "source": [
    "## 5. Complete the following code to find the minimum of 3 number using conditional statements. Output should be as displayed"
   ]
  },
  {
   "cell_type": "code",
   "execution_count": 3,
   "metadata": {},
   "outputs": [
    {
     "name": "stdout",
     "output_type": "stream",
     "text": [
      "Enter three numbers followed by  : -19 -100 -9\n",
      "First number : -19\n",
      "Second number : -100\n",
      "Third number : -9\n",
      "-100  is smallest\n"
     ]
    }
   ],
   "source": [
    "a,b,c = input(\"Enter three numbers followed by  : \").split()\n",
    "\n",
    "print(\"First number :\",a)\n",
    "print(\"Second number :\",b)\n",
    "print(\"Third number :\",c)\n",
    "\n",
    "    print(\"Entered numbers are equal!!!\")\n",
    "\n",
    "    print(a,\" is smallest\")\n",
    "\n",
    "    print(b,\" is smallest\")\n",
    "\n",
    "    print(c,\" is smallest\")"
   ]
  },
  {
   "cell_type": "markdown",
   "metadata": {},
   "source": [
    "## 6. Write a program to print star pyramind. The number of rows should be taken as input from the user"
   ]
  },
  {
   "cell_type": "code",
   "execution_count": 21,
   "metadata": {},
   "outputs": [
    {
     "name": "stdout",
     "output_type": "stream",
     "text": [
      "Enter the number of rows:5\n",
      "Star Pyramid of 5 rows\n",
      "\n",
      "     * \n",
      "    * * \n",
      "   * * * \n",
      "  * * * * \n",
      " * * * * * \n"
     ]
    }
   ],
   "source": [
    "# program to print star pyramid\n",
    "row = int(input('Enter the number of rows:'))\n",
    "print(\"Star Pyramid of\" ,row ,\"rows\\n\")\n",
    "for i in range(row):\n",
    "    for s in range(row, i, -1):\n",
    "        print(end=\" \")\n",
    "    for j in range(i+1):\n",
    "        print(end=\"* \")\n",
    "    print()    "
   ]
  },
  {
   "cell_type": "markdown",
   "metadata": {},
   "source": [
    "## 7. Complete the following code to convert hour into seconds. Output should be as displayed"
   ]
  },
  {
   "cell_type": "code",
   "execution_count": 25,
   "metadata": {},
   "outputs": [
    {
     "name": "stdout",
     "output_type": "stream",
     "text": [
      "Enter time in Hours : 24\n",
      "24  Hour is equal to 86400  Seconds\n"
     ]
    }
   ],
   "source": [
    "def to_seconds(t):\n",
    "    t=t*3600\n",
    "    return t\n",
    "time_in_hours = int(input('Enter time in Hours : '))\n",
    "print(time_in_hours ,\" Hour is equal to\" ,to_seconds(time_in_hours) ,\" Seconds\")"
   ]
  },
  {
   "cell_type": "markdown",
   "metadata": {},
   "source": [
    "## 8. Write a program to print multiplication table as below"
   ]
  },
  {
   "cell_type": "code",
   "execution_count": 26,
   "metadata": {},
   "outputs": [
    {
     "name": "stdout",
     "output_type": "stream",
     "text": [
      "Enter a number to find the multiplication table: 67\n",
      "1 x 67 = 67\n",
      "2 x 67 = 134\n",
      "3 x 67 = 201\n",
      "4 x 67 = 268\n",
      "5 x 67 = 335\n",
      "6 x 67 = 402\n",
      "7 x 67 = 469\n",
      "8 x 67 = 536\n",
      "9 x 67 = 603\n",
      "10 x 67 = 670\n"
     ]
    }
   ],
   "source": [
    "num=int(input(\"Enter a number to find the multiplication table: \"))\n",
    "for i in range(1,11):\n",
    "   print(i, 'x', num, '=',i*num)"
   ]
  },
  {
   "cell_type": "markdown",
   "metadata": {},
   "source": [
    "## 9. Write a program to take your 5 favorite food as list and print each as 'I like Biriyani'"
   ]
  },
  {
   "cell_type": "code",
   "execution_count": 29,
   "metadata": {},
   "outputs": [
    {
     "name": "stdout",
     "output_type": "stream",
     "text": [
      "Enter your 5 favourite food (seperated by comma):Fried rice,Ice cream,Rasgulla,Noodles,Gulab jamun\n",
      "I like Biriyani\n",
      "I like Biriyani\n",
      "I like Biriyani\n",
      "I like Biriyani\n",
      "I like Biriyani\n"
     ]
    }
   ],
   "source": [
    "# program to take 5 favourite food as list \n",
    "lst = input(\"Enter your 5 favourite food (seperated by comma):\")\n",
    "# Split string into words\n",
    "lst= lst.split(\",\")\n",
    "# replacing each element in list with \"Biriyani\"( if it's not) and printing the new element\n",
    "for i in range(0, 5):\n",
    "    if lst[i] != 'Biriyani' :\n",
    "        lst[i]='Biriyani'\n",
    "        print('I like',lst[i])"
   ]
  },
  {
   "cell_type": "code",
   "execution_count": null,
   "metadata": {},
   "outputs": [],
   "source": []
  }
 ],
 "metadata": {
  "kernelspec": {
   "display_name": "Python 3 (ipykernel)",
   "language": "python",
   "name": "python3"
  },
  "language_info": {
   "codemirror_mode": {
    "name": "ipython",
    "version": 3
   },
   "file_extension": ".py",
   "mimetype": "text/x-python",
   "name": "python",
   "nbconvert_exporter": "python",
   "pygments_lexer": "ipython3",
   "version": "3.9.7"
  }
 },
 "nbformat": 4,
 "nbformat_minor": 4
}
