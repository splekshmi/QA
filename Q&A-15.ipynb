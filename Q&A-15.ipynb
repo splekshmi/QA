{
 "cells": [
  {
   "cell_type": "markdown",
   "id": "cf849463",
   "metadata": {},
   "source": [
    "## <center>Q&A Activity Week - 15"
   ]
  },
  {
   "cell_type": "markdown",
   "id": "981818c7",
   "metadata": {},
   "source": [
    "### 1) Loading the dataset into python environment"
   ]
  },
  {
   "cell_type": "code",
   "execution_count": 1,
   "id": "4c6daaf9",
   "metadata": {},
   "outputs": [],
   "source": [
    "import pandas as pd\n",
    "Titanic= pd.read_csv('titanic_dataset.csv')"
   ]
  },
  {
   "cell_type": "code",
   "execution_count": 2,
   "id": "d6835bb0",
   "metadata": {},
   "outputs": [
    {
     "data": {
      "text/html": [
       "<div>\n",
       "<style scoped>\n",
       "    .dataframe tbody tr th:only-of-type {\n",
       "        vertical-align: middle;\n",
       "    }\n",
       "\n",
       "    .dataframe tbody tr th {\n",
       "        vertical-align: top;\n",
       "    }\n",
       "\n",
       "    .dataframe thead th {\n",
       "        text-align: right;\n",
       "    }\n",
       "</style>\n",
       "<table border=\"1\" class=\"dataframe\">\n",
       "  <thead>\n",
       "    <tr style=\"text-align: right;\">\n",
       "      <th></th>\n",
       "      <th>PassengerId</th>\n",
       "      <th>Survived</th>\n",
       "      <th>Pclass</th>\n",
       "      <th>Name</th>\n",
       "      <th>Sex</th>\n",
       "      <th>Age</th>\n",
       "      <th>SibSp</th>\n",
       "      <th>Parch</th>\n",
       "      <th>Ticket</th>\n",
       "      <th>Fare</th>\n",
       "      <th>Cabin</th>\n",
       "      <th>Embarked</th>\n",
       "    </tr>\n",
       "  </thead>\n",
       "  <tbody>\n",
       "    <tr>\n",
       "      <th>0</th>\n",
       "      <td>1</td>\n",
       "      <td>0</td>\n",
       "      <td>3</td>\n",
       "      <td>Braund, Mr. Owen Harris</td>\n",
       "      <td>male</td>\n",
       "      <td>22.0</td>\n",
       "      <td>1</td>\n",
       "      <td>0</td>\n",
       "      <td>A/5 21171</td>\n",
       "      <td>7.2500</td>\n",
       "      <td>NaN</td>\n",
       "      <td>S</td>\n",
       "    </tr>\n",
       "    <tr>\n",
       "      <th>1</th>\n",
       "      <td>2</td>\n",
       "      <td>1</td>\n",
       "      <td>1</td>\n",
       "      <td>Cumings, Mrs. John Bradley (Florence Briggs Th...</td>\n",
       "      <td>female</td>\n",
       "      <td>38.0</td>\n",
       "      <td>1</td>\n",
       "      <td>0</td>\n",
       "      <td>PC 17599</td>\n",
       "      <td>71.2833</td>\n",
       "      <td>C85</td>\n",
       "      <td>C</td>\n",
       "    </tr>\n",
       "    <tr>\n",
       "      <th>2</th>\n",
       "      <td>3</td>\n",
       "      <td>1</td>\n",
       "      <td>3</td>\n",
       "      <td>Heikkinen, Miss. Laina</td>\n",
       "      <td>female</td>\n",
       "      <td>26.0</td>\n",
       "      <td>0</td>\n",
       "      <td>0</td>\n",
       "      <td>STON/O2. 3101282</td>\n",
       "      <td>7.9250</td>\n",
       "      <td>NaN</td>\n",
       "      <td>S</td>\n",
       "    </tr>\n",
       "    <tr>\n",
       "      <th>3</th>\n",
       "      <td>4</td>\n",
       "      <td>1</td>\n",
       "      <td>1</td>\n",
       "      <td>Futrelle, Mrs. Jacques Heath (Lily May Peel)</td>\n",
       "      <td>female</td>\n",
       "      <td>35.0</td>\n",
       "      <td>1</td>\n",
       "      <td>0</td>\n",
       "      <td>113803</td>\n",
       "      <td>53.1000</td>\n",
       "      <td>C123</td>\n",
       "      <td>S</td>\n",
       "    </tr>\n",
       "    <tr>\n",
       "      <th>4</th>\n",
       "      <td>5</td>\n",
       "      <td>0</td>\n",
       "      <td>3</td>\n",
       "      <td>Allen, Mr. William Henry</td>\n",
       "      <td>male</td>\n",
       "      <td>35.0</td>\n",
       "      <td>0</td>\n",
       "      <td>0</td>\n",
       "      <td>373450</td>\n",
       "      <td>8.0500</td>\n",
       "      <td>NaN</td>\n",
       "      <td>S</td>\n",
       "    </tr>\n",
       "    <tr>\n",
       "      <th>...</th>\n",
       "      <td>...</td>\n",
       "      <td>...</td>\n",
       "      <td>...</td>\n",
       "      <td>...</td>\n",
       "      <td>...</td>\n",
       "      <td>...</td>\n",
       "      <td>...</td>\n",
       "      <td>...</td>\n",
       "      <td>...</td>\n",
       "      <td>...</td>\n",
       "      <td>...</td>\n",
       "      <td>...</td>\n",
       "    </tr>\n",
       "    <tr>\n",
       "      <th>886</th>\n",
       "      <td>887</td>\n",
       "      <td>0</td>\n",
       "      <td>2</td>\n",
       "      <td>Montvila, Rev. Juozas</td>\n",
       "      <td>male</td>\n",
       "      <td>27.0</td>\n",
       "      <td>0</td>\n",
       "      <td>0</td>\n",
       "      <td>211536</td>\n",
       "      <td>13.0000</td>\n",
       "      <td>NaN</td>\n",
       "      <td>S</td>\n",
       "    </tr>\n",
       "    <tr>\n",
       "      <th>887</th>\n",
       "      <td>888</td>\n",
       "      <td>1</td>\n",
       "      <td>1</td>\n",
       "      <td>Graham, Miss. Margaret Edith</td>\n",
       "      <td>female</td>\n",
       "      <td>19.0</td>\n",
       "      <td>0</td>\n",
       "      <td>0</td>\n",
       "      <td>112053</td>\n",
       "      <td>30.0000</td>\n",
       "      <td>B42</td>\n",
       "      <td>S</td>\n",
       "    </tr>\n",
       "    <tr>\n",
       "      <th>888</th>\n",
       "      <td>889</td>\n",
       "      <td>0</td>\n",
       "      <td>3</td>\n",
       "      <td>Johnston, Miss. Catherine Helen \"Carrie\"</td>\n",
       "      <td>female</td>\n",
       "      <td>NaN</td>\n",
       "      <td>1</td>\n",
       "      <td>2</td>\n",
       "      <td>W./C. 6607</td>\n",
       "      <td>23.4500</td>\n",
       "      <td>NaN</td>\n",
       "      <td>S</td>\n",
       "    </tr>\n",
       "    <tr>\n",
       "      <th>889</th>\n",
       "      <td>890</td>\n",
       "      <td>1</td>\n",
       "      <td>1</td>\n",
       "      <td>Behr, Mr. Karl Howell</td>\n",
       "      <td>male</td>\n",
       "      <td>26.0</td>\n",
       "      <td>0</td>\n",
       "      <td>0</td>\n",
       "      <td>111369</td>\n",
       "      <td>30.0000</td>\n",
       "      <td>C148</td>\n",
       "      <td>C</td>\n",
       "    </tr>\n",
       "    <tr>\n",
       "      <th>890</th>\n",
       "      <td>891</td>\n",
       "      <td>0</td>\n",
       "      <td>3</td>\n",
       "      <td>Dooley, Mr. Patrick</td>\n",
       "      <td>male</td>\n",
       "      <td>32.0</td>\n",
       "      <td>0</td>\n",
       "      <td>0</td>\n",
       "      <td>370376</td>\n",
       "      <td>7.7500</td>\n",
       "      <td>NaN</td>\n",
       "      <td>Q</td>\n",
       "    </tr>\n",
       "  </tbody>\n",
       "</table>\n",
       "<p>891 rows × 12 columns</p>\n",
       "</div>"
      ],
      "text/plain": [
       "     PassengerId  Survived  Pclass  \\\n",
       "0              1         0       3   \n",
       "1              2         1       1   \n",
       "2              3         1       3   \n",
       "3              4         1       1   \n",
       "4              5         0       3   \n",
       "..           ...       ...     ...   \n",
       "886          887         0       2   \n",
       "887          888         1       1   \n",
       "888          889         0       3   \n",
       "889          890         1       1   \n",
       "890          891         0       3   \n",
       "\n",
       "                                                  Name     Sex   Age  SibSp  \\\n",
       "0                              Braund, Mr. Owen Harris    male  22.0      1   \n",
       "1    Cumings, Mrs. John Bradley (Florence Briggs Th...  female  38.0      1   \n",
       "2                               Heikkinen, Miss. Laina  female  26.0      0   \n",
       "3         Futrelle, Mrs. Jacques Heath (Lily May Peel)  female  35.0      1   \n",
       "4                             Allen, Mr. William Henry    male  35.0      0   \n",
       "..                                                 ...     ...   ...    ...   \n",
       "886                              Montvila, Rev. Juozas    male  27.0      0   \n",
       "887                       Graham, Miss. Margaret Edith  female  19.0      0   \n",
       "888           Johnston, Miss. Catherine Helen \"Carrie\"  female   NaN      1   \n",
       "889                              Behr, Mr. Karl Howell    male  26.0      0   \n",
       "890                                Dooley, Mr. Patrick    male  32.0      0   \n",
       "\n",
       "     Parch            Ticket     Fare Cabin Embarked  \n",
       "0        0         A/5 21171   7.2500   NaN        S  \n",
       "1        0          PC 17599  71.2833   C85        C  \n",
       "2        0  STON/O2. 3101282   7.9250   NaN        S  \n",
       "3        0            113803  53.1000  C123        S  \n",
       "4        0            373450   8.0500   NaN        S  \n",
       "..     ...               ...      ...   ...      ...  \n",
       "886      0            211536  13.0000   NaN        S  \n",
       "887      0            112053  30.0000   B42        S  \n",
       "888      2        W./C. 6607  23.4500   NaN        S  \n",
       "889      0            111369  30.0000  C148        C  \n",
       "890      0            370376   7.7500   NaN        Q  \n",
       "\n",
       "[891 rows x 12 columns]"
      ]
     },
     "execution_count": 2,
     "metadata": {},
     "output_type": "execute_result"
    }
   ],
   "source": [
    "Titanic   # checking the overall structure of the dataset"
   ]
  },
  {
   "cell_type": "markdown",
   "id": "1b68a705",
   "metadata": {},
   "source": [
    "The given dataset consist of 891 rows and 12 columns.\n",
    "\n",
    "Each row represents a person who travelled in titanic.The columns are 'Passenger -id' ,'Survived':indicating survival status,'Pclass'(representing Passenger class), 'Name', 'Sex', 'Age', 'SibSp'(representing number of siblings or spouse of a person onboard), 'Parch'( representing number of parents or children on board), 'Ticket','Fare', 'Cabin', 'Embarked'(indicates joining station:Southampton, Cherbourg, and Queenstown)"
   ]
  },
  {
   "cell_type": "markdown",
   "id": "73d05b6d",
   "metadata": {},
   "source": [
    "### 2) Pre-processing"
   ]
  },
  {
   "cell_type": "markdown",
   "id": "a4a0832a",
   "metadata": {},
   "source": [
    "#### 2.1) Checking for null values"
   ]
  },
  {
   "cell_type": "code",
   "execution_count": 3,
   "id": "3d89364b",
   "metadata": {},
   "outputs": [
    {
     "data": {
      "text/plain": [
       "PassengerId      0\n",
       "Survived         0\n",
       "Pclass           0\n",
       "Name             0\n",
       "Sex              0\n",
       "Age            177\n",
       "SibSp            0\n",
       "Parch            0\n",
       "Ticket           0\n",
       "Fare             0\n",
       "Cabin          687\n",
       "Embarked         2\n",
       "dtype: int64"
      ]
     },
     "execution_count": 3,
     "metadata": {},
     "output_type": "execute_result"
    }
   ],
   "source": [
    "Titanic.isna().sum()"
   ]
  },
  {
   "cell_type": "markdown",
   "id": "e9cdea9e",
   "metadata": {},
   "source": [
    "Embarked column has 2 null values,whereas Age has 177 null values and  Cabin has 687 null values.\n",
    "Embarked and Cabin are categorical columns whereas Age is a numerical column."
   ]
  },
  {
   "cell_type": "markdown",
   "id": "f7ece940",
   "metadata": {},
   "source": [
    "#### 2.2) Filling the missing values"
   ]
  },
  {
   "cell_type": "markdown",
   "id": "c1d7aad9",
   "metadata": {},
   "source": [
    "##### 2.2.1) Filling 'Embarked' column "
   ]
  },
  {
   "cell_type": "markdown",
   "id": "582e82cc",
   "metadata": {},
   "source": [
    "Embarked is a categorical column which can have 3 values : S,C and Q representing Southampton, Cherbourg, and Queenstown from where the traveller boarded the ship.\n",
    "Embarked column has only 2 missing values and Mode method can be used to fill in the values."
   ]
  },
  {
   "cell_type": "code",
   "execution_count": 4,
   "id": "43c6e9d9",
   "metadata": {},
   "outputs": [],
   "source": [
    "Titanic['Embarked']=Titanic['Embarked'].fillna(Titanic['Embarked'].mode()[0])"
   ]
  },
  {
   "cell_type": "markdown",
   "id": "bc52a19c",
   "metadata": {},
   "source": [
    "#### 2.2.2) Filling 'Age' column"
   ]
  },
  {
   "cell_type": "markdown",
   "id": "1550630c",
   "metadata": {},
   "source": [
    "Age is a numerical column and has 177 values missing contributing the 19.7% of age column.Plotting age column using box plot to decide whether mean or median is more suitable for replacing the missing values."
   ]
  },
  {
   "cell_type": "code",
   "execution_count": 5,
   "id": "b89620f9",
   "metadata": {},
   "outputs": [
    {
     "data": {
      "image/png": "[encoded data removed]",
      "text/plain": [
       "<Figure size 432x288 with 1 Axes>"
      ]
     },
     "metadata": {
      "needs_background": "light"
     },
     "output_type": "display_data"
    }
   ],
   "source": [
    "import matplotlib.pyplot as plt\n",
    "plt.title('Box plot of Age')\n",
    "medianprops = dict(color=\"red\",linewidth=1)\n",
    "Titanic.boxplot(column='Age', return_type='axes',showmeans=True,medianprops=medianprops)\n",
    "plt.show()"
   ]
  },
  {
   "cell_type": "markdown",
   "id": "5656b0e3",
   "metadata": {},
   "source": [
    "Box plot shows the overall range of Age and its symmetrically spread,so mean or median can be used to fill in the values."
   ]
  },
  {
   "cell_type": "code",
   "execution_count": 6,
   "id": "12d5ef4b",
   "metadata": {},
   "outputs": [],
   "source": [
    "# Extracting Salutations from Name column \n",
    "for i in Titanic:\n",
    "    Titanic['Title']=Titanic.Name.str.extract('([A-Za-z]+)\\.') # extracting the Salutations"
   ]
  },
  {
   "cell_type": "code",
   "execution_count": 7,
   "id": "c098f70f",
   "metadata": {},
   "outputs": [
    {
     "data": {
      "text/plain": [
       "0        Mr\n",
       "1       Mrs\n",
       "2      Miss\n",
       "3       Mrs\n",
       "4        Mr\n",
       "       ... \n",
       "886     Rev\n",
       "887    Miss\n",
       "888    Miss\n",
       "889      Mr\n",
       "890      Mr\n",
       "Name: Title, Length: 891, dtype: object"
      ]
     },
     "execution_count": 7,
     "metadata": {},
     "output_type": "execute_result"
    }
   ],
   "source": [
    "Titanic['Title']"
   ]
  },
  {
   "cell_type": "code",
   "execution_count": 8,
   "id": "61083ab2",
   "metadata": {},
   "outputs": [],
   "source": [
    "# Finding the mean age by grouping based on prime features such as Title and Pclass.\n",
    "# Fare and gender base grouping not necessary since the above better represent the classification\n",
    "#Using median to fill-in values in case of any extremities."
   ]
  },
  {
   "cell_type": "code",
   "execution_count": 9,
   "id": "35f898f5",
   "metadata": {},
   "outputs": [
    {
     "data": {
      "text/plain": [
       "Title     Pclass\n",
       "Capt      1         70.0\n",
       "Col       1         58.0\n",
       "Countess  1         33.0\n",
       "Don       1         40.0\n",
       "Dr        1         46.5\n",
       "          2         38.5\n",
       "Jonkheer  1         38.0\n",
       "Lady      1         48.0\n",
       "Major     1         48.5\n",
       "Master    1          4.0\n",
       "          2          1.0\n",
       "          3          4.0\n",
       "Miss      1         30.0\n",
       "          2         24.0\n",
       "          3         18.0\n",
       "Mlle      1         24.0\n",
       "Mme       1         24.0\n",
       "Mr        1         40.0\n",
       "          2         31.0\n",
       "          3         26.0\n",
       "Mrs       1         41.5\n",
       "          2         32.0\n",
       "          3         31.0\n",
       "Ms        2         28.0\n",
       "Rev       2         46.5\n",
       "Sir       1         49.0\n",
       "Name: Age, dtype: float64"
      ]
     },
     "execution_count": 9,
     "metadata": {},
     "output_type": "execute_result"
    }
   ],
   "source": [
    "Titanic.groupby(['Title','Pclass'])['Age'].median()"
   ]
  },
  {
   "cell_type": "code",
   "execution_count": 10,
   "id": "14f4ef89",
   "metadata": {},
   "outputs": [],
   "source": [
    "# Filling in the missing values of age column by median found out using the above grouping.\n",
    "l_col=['Title','Pclass']\n",
    "Titanic['Age'] = Titanic['Age'].fillna(Titanic.groupby(l_col)['Age'].transform('median'))"
   ]
  },
  {
   "cell_type": "markdown",
   "id": "4df2bc32",
   "metadata": {},
   "source": [
    "#### 2.2.3) Filling 'Cabin' column"
   ]
  },
  {
   "cell_type": "code",
   "execution_count": 11,
   "id": "5072b24e",
   "metadata": {},
   "outputs": [
    {
     "data": {
      "text/plain": [
       "687"
      ]
     },
     "execution_count": 11,
     "metadata": {},
     "output_type": "execute_result"
    }
   ],
   "source": [
    "sum(pd.isnull(Titanic['Cabin']))"
   ]
  },
  {
   "cell_type": "code",
   "execution_count": 12,
   "id": "318620c3",
   "metadata": {},
   "outputs": [
    {
     "data": {
      "text/plain": [
       "147"
      ]
     },
     "execution_count": 12,
     "metadata": {},
     "output_type": "execute_result"
    }
   ],
   "source": [
    "Titanic['Cabin'].nunique()"
   ]
  },
  {
   "cell_type": "markdown",
   "id": "7c059939",
   "metadata": {},
   "source": [
    "It can be observed that the categorical column Cabin has 687 missing values contributing to 77.1% of values in the respective column.Cabin is assigned based on the class of tickets bought. If the cabins were near to lifeboats then people had easy and early access to them and therefore survival rate would have been better.But since too much data is missing, its not advisable to fill the values by mode. \n",
    "Missing value may also mean: People didn’t had a specific cabin (as lower class tickets were cheap) and many would have stayed in a big lobby or room or the data is simply missing.\n",
    "So filling the null values in Cabin column as'Unknown'."
   ]
  },
  {
   "cell_type": "code",
   "execution_count": 13,
   "id": "f454824a",
   "metadata": {},
   "outputs": [],
   "source": [
    "Titanic.Cabin = Titanic.Cabin.fillna('Unknown')"
   ]
  },
  {
   "cell_type": "markdown",
   "id": "29c4f8c4",
   "metadata": {},
   "source": [
    "#### 2.2.4)  Checking whether all missing are values replaced"
   ]
  },
  {
   "cell_type": "code",
   "execution_count": 14,
   "id": "1fa604ce",
   "metadata": {},
   "outputs": [
    {
     "data": {
      "text/plain": [
       "PassengerId    0\n",
       "Survived       0\n",
       "Pclass         0\n",
       "Name           0\n",
       "Sex            0\n",
       "Age            0\n",
       "SibSp          0\n",
       "Parch          0\n",
       "Ticket         0\n",
       "Fare           0\n",
       "Cabin          0\n",
       "Embarked       0\n",
       "Title          0\n",
       "dtype: int64"
      ]
     },
     "execution_count": 14,
     "metadata": {},
     "output_type": "execute_result"
    }
   ],
   "source": [
    "Titanic.isna().sum()"
   ]
  },
  {
   "cell_type": "markdown",
   "id": "4ebd715d",
   "metadata": {},
   "source": [
    "#### 3) creating a new dataframe with relevant columns"
   ]
  },
  {
   "cell_type": "code",
   "execution_count": 15,
   "id": "79f19e38",
   "metadata": {},
   "outputs": [],
   "source": [
    "#Dropping PassengerId,Name,Ticket,Cabin(Since most values are unknown),and recently added 'Title' column\n",
    "#Taking only those columns which are helpful in training the model."
   ]
  },
  {
   "cell_type": "code",
   "execution_count": 16,
   "id": "a2055e26",
   "metadata": {},
   "outputs": [],
   "source": [
    "T=Titanic.copy()\n",
    "T.drop(['PassengerId','Name','Ticket','Cabin','Title'],axis=1,inplace=True)"
   ]
  },
  {
   "cell_type": "code",
   "execution_count": 17,
   "id": "987ddb13",
   "metadata": {},
   "outputs": [
    {
     "data": {
      "text/html": [
       "<div>\n",
       "<style scoped>\n",
       "    .dataframe tbody tr th:only-of-type {\n",
       "        vertical-align: middle;\n",
       "    }\n",
       "\n",
       "    .dataframe tbody tr th {\n",
       "        vertical-align: top;\n",
       "    }\n",
       "\n",
       "    .dataframe thead th {\n",
       "        text-align: right;\n",
       "    }\n",
       "</style>\n",
       "<table border=\"1\" class=\"dataframe\">\n",
       "  <thead>\n",
       "    <tr style=\"text-align: right;\">\n",
       "      <th></th>\n",
       "      <th>Survived</th>\n",
       "      <th>Pclass</th>\n",
       "      <th>Sex</th>\n",
       "      <th>Age</th>\n",
       "      <th>SibSp</th>\n",
       "      <th>Parch</th>\n",
       "      <th>Fare</th>\n",
       "      <th>Embarked</th>\n",
       "    </tr>\n",
       "  </thead>\n",
       "  <tbody>\n",
       "    <tr>\n",
       "      <th>0</th>\n",
       "      <td>0</td>\n",
       "      <td>3</td>\n",
       "      <td>male</td>\n",
       "      <td>22.0</td>\n",
       "      <td>1</td>\n",
       "      <td>0</td>\n",
       "      <td>7.2500</td>\n",
       "      <td>S</td>\n",
       "    </tr>\n",
       "    <tr>\n",
       "      <th>1</th>\n",
       "      <td>1</td>\n",
       "      <td>1</td>\n",
       "      <td>female</td>\n",
       "      <td>38.0</td>\n",
       "      <td>1</td>\n",
       "      <td>0</td>\n",
       "      <td>71.2833</td>\n",
       "      <td>C</td>\n",
       "    </tr>\n",
       "    <tr>\n",
       "      <th>2</th>\n",
       "      <td>1</td>\n",
       "      <td>3</td>\n",
       "      <td>female</td>\n",
       "      <td>26.0</td>\n",
       "      <td>0</td>\n",
       "      <td>0</td>\n",
       "      <td>7.9250</td>\n",
       "      <td>S</td>\n",
       "    </tr>\n",
       "    <tr>\n",
       "      <th>3</th>\n",
       "      <td>1</td>\n",
       "      <td>1</td>\n",
       "      <td>female</td>\n",
       "      <td>35.0</td>\n",
       "      <td>1</td>\n",
       "      <td>0</td>\n",
       "      <td>53.1000</td>\n",
       "      <td>S</td>\n",
       "    </tr>\n",
       "    <tr>\n",
       "      <th>4</th>\n",
       "      <td>0</td>\n",
       "      <td>3</td>\n",
       "      <td>male</td>\n",
       "      <td>35.0</td>\n",
       "      <td>0</td>\n",
       "      <td>0</td>\n",
       "      <td>8.0500</td>\n",
       "      <td>S</td>\n",
       "    </tr>\n",
       "  </tbody>\n",
       "</table>\n",
       "</div>"
      ],
      "text/plain": [
       "   Survived  Pclass     Sex   Age  SibSp  Parch     Fare Embarked\n",
       "0         0       3    male  22.0      1      0   7.2500        S\n",
       "1         1       1  female  38.0      1      0  71.2833        C\n",
       "2         1       3  female  26.0      0      0   7.9250        S\n",
       "3         1       1  female  35.0      1      0  53.1000        S\n",
       "4         0       3    male  35.0      0      0   8.0500        S"
      ]
     },
     "execution_count": 17,
     "metadata": {},
     "output_type": "execute_result"
    }
   ],
   "source": [
    "T.head(5)"
   ]
  },
  {
   "cell_type": "markdown",
   "id": "894011b7",
   "metadata": {},
   "source": [
    "#### 4) Encoding the categorical columns"
   ]
  },
  {
   "cell_type": "code",
   "execution_count": 18,
   "id": "bff17f59",
   "metadata": {},
   "outputs": [],
   "source": [
    "T['Sex'] = T['Sex'].replace([\"female\", \"male\"], [0, 1])\n",
    "T['Embarked'] = T['Embarked'].replace(['S', 'C', 'Q'], [1, 2, 3])"
   ]
  },
  {
   "cell_type": "code",
   "execution_count": 19,
   "id": "abb137a2",
   "metadata": {},
   "outputs": [],
   "source": [
    "# Checking correlation coefficients,since Naive Bayes classifier expects the features to be independent.\n",
    "# Survived is the dependent feature and all others are independent features."
   ]
  },
  {
   "cell_type": "code",
   "execution_count": 20,
   "id": "67fd9961",
   "metadata": {},
   "outputs": [
    {
     "data": {
      "image/png": "[encoded data removed]",
      "text/plain": [
       "<Figure size 432x288 with 2 Axes>"
      ]
     },
     "metadata": {
      "needs_background": "light"
     },
     "output_type": "display_data"
    }
   ],
   "source": [
    "import matplotlib.pyplot as plt\n",
    "import seaborn as sns\n",
    "corr_matrix=T.corr()\n",
    "sns.heatmap(corr_matrix,linewidths=0.2,annot=True)\n",
    "plt.show()"
   ]
  },
  {
   "cell_type": "code",
   "execution_count": 21,
   "id": "4ab19769",
   "metadata": {},
   "outputs": [],
   "source": [
    "# P Class and Fare are highly negatively correlated.\n",
    "#Dropping Fare,especially since P class is more correlated to the target 'Survived' than Fare. "
   ]
  },
  {
   "cell_type": "code",
   "execution_count": 22,
   "id": "83f98115",
   "metadata": {},
   "outputs": [],
   "source": [
    "T.drop(['Fare'],axis=1,inplace=True)"
   ]
  },
  {
   "cell_type": "code",
   "execution_count": 23,
   "id": "3d890dd7",
   "metadata": {},
   "outputs": [],
   "source": [
    "# using Standard scaling to scale the real numerical column Age"
   ]
  },
  {
   "cell_type": "code",
   "execution_count": 24,
   "id": "93cd73ea",
   "metadata": {},
   "outputs": [],
   "source": [
    "from sklearn import preprocessing\n",
    "standardisation=preprocessing.StandardScaler()\n",
    "T[['Age']]=standardisation.fit_transform(T[['Age']])"
   ]
  },
  {
   "cell_type": "markdown",
   "id": "e2a2d13f",
   "metadata": {},
   "source": [
    "### 3) Applying GaussianNB Classifier to predict the surival status"
   ]
  },
  {
   "cell_type": "code",
   "execution_count": 25,
   "id": "36047ac4",
   "metadata": {},
   "outputs": [],
   "source": [
    "# spliiting the dataset into features and target\n",
    "#Taking survived as the target and all other as features\n",
    "X=T.drop(['Survived'],axis=1)\n",
    "y=T['Survived']\n",
    "# splitting into test and training set\n",
    "from sklearn.model_selection import train_test_split\n",
    "X_train,X_test,y_train,y_test=train_test_split(X,y,random_state=42,test_size=0.20)"
   ]
  },
  {
   "cell_type": "code",
   "execution_count": 26,
   "id": "0432f365",
   "metadata": {},
   "outputs": [
    {
     "data": {
      "text/plain": [
       "(712, 6)"
      ]
     },
     "execution_count": 26,
     "metadata": {},
     "output_type": "execute_result"
    }
   ],
   "source": [
    "X_train.shape"
   ]
  },
  {
   "cell_type": "markdown",
   "id": "d10b57eb",
   "metadata": {},
   "source": [
    "Training set consist of 712 data points"
   ]
  },
  {
   "cell_type": "code",
   "execution_count": 27,
   "id": "936df5ad",
   "metadata": {},
   "outputs": [
    {
     "data": {
      "text/plain": [
       "(179, 6)"
      ]
     },
     "execution_count": 27,
     "metadata": {},
     "output_type": "execute_result"
    }
   ],
   "source": [
    "X_test.shape"
   ]
  },
  {
   "cell_type": "markdown",
   "id": "1a959315",
   "metadata": {},
   "source": [
    "Testing set consist of 179 data points"
   ]
  },
  {
   "cell_type": "code",
   "execution_count": 28,
   "id": "1576231c",
   "metadata": {},
   "outputs": [],
   "source": [
    "#Naive Bayes classifier on the data set\n",
    "from sklearn.naive_bayes import GaussianNB\n",
    "NB_model=GaussianNB()\n",
    "NB_model.fit(X_train,y_train)\n",
    "y_pred=NB_model.predict(X_test)"
   ]
  },
  {
   "cell_type": "code",
   "execution_count": 29,
   "id": "13ccb528",
   "metadata": {},
   "outputs": [
    {
     "data": {
      "text/plain": [
       "array([0, 0, 0, 1, 1, 1, 1, 0, 1, 1, 0, 0, 0, 0, 0, 1, 0, 1, 0, 0, 0, 0,\n",
       "       1, 0, 0, 0, 1, 0, 0, 1, 0, 1, 1, 1, 0, 0, 0, 1, 1, 0, 0, 0, 0, 0,\n",
       "       1, 0, 0, 0, 0, 1, 1, 1, 0, 1, 0, 1, 0, 1, 1, 1, 0, 1, 1, 0, 0, 1,\n",
       "       0, 0, 0, 1, 1, 1, 1, 1, 0, 0, 1, 1, 1, 1, 0, 1, 1, 0, 1, 1, 1, 1,\n",
       "       0, 0, 0, 0, 1, 0, 0, 0, 0, 0, 1, 0, 1, 0, 1, 0, 0, 0, 1, 0, 0, 1,\n",
       "       1, 0, 1, 0, 0, 0, 1, 0, 1, 1, 0, 1, 1, 0, 0, 1, 1, 1, 1, 0, 1, 0,\n",
       "       0, 1, 1, 1, 1, 0, 0, 1, 0, 1, 0, 0, 1, 1, 0, 0, 1, 0, 0, 0, 0, 1,\n",
       "       0, 0, 0, 1, 1, 1, 0, 0, 0, 1, 0, 1, 0, 1, 0, 0, 1, 1, 0, 1, 0, 0,\n",
       "       0, 1, 1], dtype=int64)"
      ]
     },
     "execution_count": 29,
     "metadata": {},
     "output_type": "execute_result"
    }
   ],
   "source": [
    "y_pred"
   ]
  },
  {
   "cell_type": "code",
   "execution_count": 30,
   "id": "9eb189f8",
   "metadata": {},
   "outputs": [],
   "source": [
    "# Evaluating the model using confusion matrix and accuracy score"
   ]
  },
  {
   "cell_type": "code",
   "execution_count": 31,
   "id": "6319ae45",
   "metadata": {},
   "outputs": [
    {
     "data": {
      "text/plain": [
       "array([[80, 25],\n",
       "       [17, 57]], dtype=int64)"
      ]
     },
     "execution_count": 31,
     "metadata": {},
     "output_type": "execute_result"
    }
   ],
   "source": [
    "from sklearn.metrics import accuracy_score, confusion_matrix\n",
    "confusion_matrix(y_test,y_pred)"
   ]
  },
  {
   "cell_type": "markdown",
   "id": "449c2042",
   "metadata": {},
   "source": [
    "Out of 179 predictions,137 predicitons were correct"
   ]
  },
  {
   "cell_type": "code",
   "execution_count": 32,
   "id": "ca2175fe",
   "metadata": {},
   "outputs": [
    {
     "name": "stdout",
     "output_type": "stream",
     "text": [
      "Accuracy is: 0.765\n"
     ]
    }
   ],
   "source": [
    "print(\"Accuracy is:\",round(accuracy_score(y_test,y_pred),3))"
   ]
  },
  {
   "cell_type": "markdown",
   "id": "97d2ff32",
   "metadata": {},
   "source": [
    "###  4)Using hyper parameter tuning on GaussianNB Classifier"
   ]
  },
  {
   "cell_type": "code",
   "execution_count": 33,
   "id": "a6223fc4",
   "metadata": {},
   "outputs": [
    {
     "name": "stdout",
     "output_type": "stream",
     "text": [
      "{'priors': None, 'var_smoothing': 1e-09}\n"
     ]
    }
   ],
   "source": [
    "# Dsplaying the parameters in GaussianNB\n",
    "print(NB_model.get_params())"
   ]
  },
  {
   "cell_type": "code",
   "execution_count": 34,
   "id": "5345931d",
   "metadata": {},
   "outputs": [
    {
     "name": "stdout",
     "output_type": "stream",
     "text": [
      "Fitting 10 folds for each of 100 candidates, totalling 1000 fits\n",
      "{'var_smoothing': 0.008111308307896872}\n"
     ]
    }
   ],
   "source": [
    "# Using GridSearchCV to find the optimum parameters\n",
    "import numpy as np\n",
    "from sklearn.model_selection import GridSearchCV\n",
    "params_NB = {'var_smoothing': np.logspace(0,-9, num=100)}\n",
    "NB_grid = GridSearchCV(estimator=GaussianNB(), \n",
    "                 param_grid=params_NB, \n",
    "                 cv=10,   \n",
    "                 verbose=1, \n",
    "                 scoring='accuracy') \n",
    "NB_grid.fit(X_train, y_train)\n",
    "print(NB_grid.best_params_)"
   ]
  },
  {
   "cell_type": "code",
   "execution_count": 35,
   "id": "839dc891",
   "metadata": {},
   "outputs": [],
   "source": [
    "y_pred=NB_grid.best_estimator_.predict(X_test)"
   ]
  },
  {
   "cell_type": "code",
   "execution_count": 36,
   "id": "b10f21a4",
   "metadata": {},
   "outputs": [],
   "source": [
    "#Evaluating the model"
   ]
  },
  {
   "cell_type": "code",
   "execution_count": 37,
   "id": "32b09094",
   "metadata": {},
   "outputs": [
    {
     "data": {
      "text/plain": [
       "array([[80, 25],\n",
       "       [17, 57]], dtype=int64)"
      ]
     },
     "execution_count": 37,
     "metadata": {},
     "output_type": "execute_result"
    }
   ],
   "source": [
    "confusion_matrix(y_test,y_pred)"
   ]
  },
  {
   "cell_type": "code",
   "execution_count": 38,
   "id": "89a7f0b2",
   "metadata": {},
   "outputs": [
    {
     "name": "stdout",
     "output_type": "stream",
     "text": [
      "Accuracy is: 0.765\n"
     ]
    }
   ],
   "source": [
    "print(\"Accuracy is:\",round(accuracy_score(y_test,y_pred),3))"
   ]
  },
  {
   "cell_type": "markdown",
   "id": "a788bbc5",
   "metadata": {},
   "source": [
    "Performance doesn't improve after Hyper parameter tuning.\n",
    "Naive Bayes classifier has a very limited parameter set.So, hyper-parameter tuning may not be considered as a valid method to improve Naive Bayes classifier accuracy. "
   ]
  }
 ],
 "metadata": {
  "kernelspec": {
   "display_name": "Python 3 (ipykernel)",
   "language": "python",
   "name": "python3"
  },
  "language_info": {
   "codemirror_mode": {
    "name": "ipython",
    "version": 3
   },
   "file_extension": ".py",
   "mimetype": "text/x-python",
   "name": "python",
   "nbconvert_exporter": "python",
   "pygments_lexer": "ipython3",
   "version": "3.9.7"
  }
 },
 "nbformat": 4,
 "nbformat_minor": 5
}
